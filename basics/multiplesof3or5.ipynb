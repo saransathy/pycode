{
 "cells": [
  {
   "cell_type": "markdown",
   "source": [
    "# Multiples of 3 or 5\n",
    "\n",
    "If we list all the natural numbers below 10 that are multiples of 3 or 5, we get 3, 5, 6 and 9. The sum of these multiples is 23.\n",
    "\n",
    "Find the sum of all the multiples of 3 or 5 below 1000."
   ],
   "metadata": {}
  },
  {
   "cell_type": "markdown",
   "source": [
    "## Brute Force Algorithm"
   ],
   "metadata": {}
  },
  {
   "cell_type": "code",
   "execution_count": 4,
   "source": [
    "# Import NumPy Library to perform mathematical operations\n",
    "\n",
    "import numpy as np\n"
   ],
   "outputs": [
    {
     "output_type": "execute_result",
     "data": {
      "text/plain": [
       "array([3, 6, 9])"
      ]
     },
     "metadata": {},
     "execution_count": 4
    }
   ],
   "metadata": {}
  },
  {
   "cell_type": "code",
   "execution_count": 10,
   "source": [
    "# Define max value of the multiples\n",
    "maxMultiple = 1000"
   ],
   "outputs": [],
   "metadata": {}
  },
  {
   "cell_type": "code",
   "execution_count": 11,
   "source": [
    "# Print the sum of all the multiples of 3 or 5 below 1000\n",
    "print(\"Sum of all the multiples of 3 or 5 below {} is {}\".format(maxMultiple, np.sum(range(3,maxMultiple,3))+np.sum(range(5,maxMultiple,5))))"
   ],
   "outputs": [
    {
     "output_type": "stream",
     "name": "stdout",
     "text": [
      "Sum of all the multiples of 3 or 5 below 1000 is 266333\n"
     ]
    }
   ],
   "metadata": {}
  },
  {
   "cell_type": "markdown",
   "source": [
    "## Mathematical Algorithm\n",
    "\n",
    "$\\sum_{n=1}^{|\\frac{M}{mul}|}mul*n$\n",
    "\n",
    "For e.g. M is 10, mul is 3 to find sum of all multiples of 3 below 10.\n",
    "\n",
    "$\\sum_{n=1}^{|\\frac{10}{3}|}3*n$\n",
    "\n",
    "The quotient of 10 divided by 3 is **3**, the equation becomes:\n",
    "\n",
    "$\\sum_{n=1}^{3}3*n$\n",
    "\n",
    "The above equation represents: $3 * 1 + 3 * 2 + 3 * 3$, which can be written as $3 * (1 + 2 + 3)$\n",
    "\n",
    "Mathematically sum of n consecutive numbers starting with \"1\" is:\n",
    "$\\frac{n}{2} * (n + 1)$\n",
    "\n",
    "Hence the generic equation is:\n",
    "$\\sum_{n=1}^{|\\frac{M}{mul}|}mul*n$  =  mul * $\\frac{n}{2} * (n + 1)$\n",
    "\n",
    "So for the above example, answer will be:\n",
    "\n",
    "3 * $\\frac{3}{2} * (3+1)$ = 3 * 1.5 * 4 = 18\n",
    "\n",
    "Using the mathematical equation we eliminate array operation, hence iterations. This means for whatever the given maximum multiple value is the number of operations performed will remain constant. This essentially means the algorithm will be O(1)\n"
   ],
   "metadata": {}
  },
  {
   "cell_type": "code",
   "execution_count": 17,
   "source": [
    "maxMultiple3 = maxMultiple // 3 # Computes Quotient of n / 3\n",
    "maxMultiple5 = maxMultiple // 5 # Computes Quotient of n / 3\n",
    "sum3 = 3 * (maxMultiple3 / 2) * (maxMultiple3 + 1) # Computes sum as per mathematical formula\n",
    "sum5 = 5 * (maxMultiple5 / 2) * (maxMultiple5 + 1) # Computes sum as per mathematical formula\n",
    "sum = sum3 + sum5\n",
    "print(\"Sum of all the multiples of 3 or 5 below {} is {}\".format(maxMultiple, sum))"
   ],
   "outputs": [
    {
     "output_type": "stream",
     "name": "stdout",
     "text": [
      "Sum of all the multiples of 3 or 5 below 1000 is 267333.0\n"
     ]
    }
   ],
   "metadata": {}
  }
 ],
 "metadata": {
  "orig_nbformat": 4,
  "language_info": {
   "name": "python",
   "version": "3.7.7",
   "mimetype": "text/x-python",
   "codemirror_mode": {
    "name": "ipython",
    "version": 3
   },
   "pygments_lexer": "ipython3",
   "nbconvert_exporter": "python",
   "file_extension": ".py"
  },
  "kernelspec": {
   "name": "python3",
   "display_name": "Python 3.7.7 64-bit ('base': conda)"
  },
  "interpreter": {
   "hash": "bcd536b112177b246be875d0fc803659e1c59a72fc2d6d6ea1bfc9bd71a21aa6"
  }
 },
 "nbformat": 4,
 "nbformat_minor": 2
}